{
 "cells": [
  {
   "cell_type": "code",
   "execution_count": 1,
   "metadata": {
    "collapsed": true
   },
   "outputs": [],
   "source": [
    "import tensorflow as tf\n",
    "import numpy as np"
   ]
  },
  {
   "cell_type": "markdown",
   "metadata": {},
   "source": [
    "## Training Examples\n",
    "### All combinations of XOR for 3 inputs"
   ]
  },
  {
   "cell_type": "code",
   "execution_count": 2,
   "metadata": {
    "collapsed": true
   },
   "outputs": [],
   "source": [
    "X = [[0,0,0],[0,0,1], [0,1,0], [0,1,1], [1,0,0], [1,0,1],[1,1,0], [1,1,1]]\n",
    "Y = [[0], [1], [1], [0], [1], [0], [0], [1]]"
   ]
  },
  {
   "cell_type": "code",
   "execution_count": 25,
   "metadata": {
    "collapsed": false
   },
   "outputs": [],
   "source": [
    "### Neural Network Parameters\n",
    "N_STEPS = 200000\n",
    "N_EPOCH = 100000\n",
    "N_TRAINING = len(X)\n",
    "\n",
    "N_INPUT_NODES = 3\n",
    "N_HIDDEN_NODES = 7\n",
    "N_OUTPUT_NODES = 1\n",
    "\n",
    "ACTIVATION = 'tanh'\n",
    "COST = 'MSE'\n",
    "LEARNING_RATE = 0.05"
   ]
  },
  {
   "cell_type": "code",
   "execution_count": 26,
   "metadata": {
    "collapsed": true
   },
   "outputs": [],
   "source": [
    "## Placeholders for all variables\n",
    "\n",
    "x_ = tf.placeholder(tf.float32, shape=[None, N_INPUT_NODES], name=\"x-input\")\n",
    "y_ = tf.placeholder(tf.float32, shape=[N_TRAINING, N_OUTPUT_NODES], name=\"y-input\")\n",
    "\n",
    "theta1 = tf.Variable(tf.random_uniform([N_INPUT_NODES, N_HIDDEN_NODES], -1, 1), name=\"theta1\")\n",
    "theta2 = tf.Variable(tf.random_uniform([N_HIDDEN_NODES, N_OUTPUT_NODES], -1, 1), name=\"theta2\")\n",
    "\n",
    "bias1 = tf.Variable(tf.zeros([N_HIDDEN_NODES]), name=\"bias1\")\n",
    "bias2 = tf.Variable(tf.zeros([N_OUTPUT_NODES]), name=\"bias2\")"
   ]
  },
  {
   "cell_type": "code",
   "execution_count": 27,
   "metadata": {
    "collapsed": false
   },
   "outputs": [],
   "source": [
    "layer1 = tf.sigmoid(tf.matmul(x_, theta1) + bias1)\n",
    "output = tf.sigmoid(tf.matmul(layer1, theta2) + bias2)\n",
    "\n",
    "cost = tf.reduce_mean(tf.square(Y-output))\n",
    "train_step = tf.train.GradientDescentOptimizer(LEARNING_RATE).minimize(cost)"
   ]
  },
  {
   "cell_type": "code",
   "execution_count": 28,
   "metadata": {
    "collapsed": true
   },
   "outputs": [],
   "source": [
    "init = tf.initialize_all_variables()\n",
    "sess = tf.Session()\n",
    "sess.run(init)"
   ]
  },
  {
   "cell_type": "code",
   "execution_count": 29,
   "metadata": {
    "collapsed": false
   },
   "outputs": [
    {
     "name": "stdout",
     "output_type": "stream",
     "text": [
      "('Batch', 0)\n",
      "('Inference', array([[ 0.50998735],\n",
      "       [ 0.53195471],\n",
      "       [ 0.51567811],\n",
      "       [ 0.53786153],\n",
      "       [ 0.519862  ],\n",
      "       [ 0.54291612],\n",
      "       [ 0.52265787],\n",
      "       [ 0.54496723]], dtype=float32))\n",
      "('Cost', 0.2510666)\n",
      "('Batch', 100000)\n",
      "('Inference', array([[ 0.0220323 ],\n",
      "       [ 0.97143823],\n",
      "       [ 0.97100091],\n",
      "       [ 0.02505944],\n",
      "       [ 0.97097135],\n",
      "       [ 0.02555247],\n",
      "       [ 0.03172803],\n",
      "       [ 0.98149329]], dtype=float32))\n",
      "('Cost', 0.00070185971)\n"
     ]
    }
   ],
   "source": [
    "for i in range(N_STEPS):\n",
    "    sess.run(train_step, feed_dict={x_ : X, y_: Y})\n",
    "    if i % N_EPOCH == 0:\n",
    "        print('Batch', i)\n",
    "        print('Inference', sess.run(output, feed_dict={x_ : X, y_:Y}))\n",
    "        print('Cost', sess.run(cost, feed_dict={x_: X, y_:Y}))"
   ]
  },
  {
   "cell_type": "code",
   "execution_count": 31,
   "metadata": {
    "collapsed": false
   },
   "outputs": [
    {
     "name": "stdout",
     "output_type": "stream",
     "text": [
      "('Prediction', array([[ 0.98182213]], dtype=float32))\n"
     ]
    }
   ],
   "source": [
    "print('Prediction', sess.run(output, feed_dict={x_ : [[0,1,0]]}))"
   ]
  },
  {
   "cell_type": "code",
   "execution_count": 32,
   "metadata": {
    "collapsed": false
   },
   "outputs": [
    {
     "name": "stdout",
     "output_type": "stream",
     "text": [
      "('Prediction', array([[ 0.9665336]], dtype=float32))\n"
     ]
    }
   ],
   "source": [
    "print('Prediction', sess.run(output, feed_dict={x_ : [[1,0.9,0.8]]}))"
   ]
  },
  {
   "cell_type": "code",
   "execution_count": 33,
   "metadata": {
    "collapsed": false
   },
   "outputs": [
    {
     "name": "stdout",
     "output_type": "stream",
     "text": [
      "('Prediction', array([[ 0.95206398]], dtype=float32))\n"
     ]
    }
   ],
   "source": [
    "print('Prediction', sess.run(output, feed_dict={x_ : [[0.2,1.4,0.1]]}))"
   ]
  },
  {
   "cell_type": "code",
   "execution_count": 34,
   "metadata": {
    "collapsed": false
   },
   "outputs": [
    {
     "name": "stdout",
     "output_type": "stream",
     "text": [
      "('Prediction', array([[ 0.0148905]], dtype=float32))\n"
     ]
    }
   ],
   "source": [
    "print('Prediction', sess.run(output, feed_dict={x_ : [[1.9,1.4,0.1]]}))"
   ]
  },
  {
   "cell_type": "code",
   "execution_count": 35,
   "metadata": {
    "collapsed": false
   },
   "outputs": [
    {
     "name": "stdout",
     "output_type": "stream",
     "text": [
      "('Prediction', array([[ 0.37569797]], dtype=float32))\n"
     ]
    }
   ],
   "source": [
    "print('Prediction', sess.run(output, feed_dict={x_ : [[1.9,-1.4,0.1]]}))"
   ]
  },
  {
   "cell_type": "code",
   "execution_count": null,
   "metadata": {
    "collapsed": true
   },
   "outputs": [],
   "source": []
  }
 ],
 "metadata": {
  "kernelspec": {
   "display_name": "Python 2",
   "language": "python",
   "name": "python2"
  },
  "language_info": {
   "codemirror_mode": {
    "name": "ipython",
    "version": 2
   },
   "file_extension": ".py",
   "mimetype": "text/x-python",
   "name": "python",
   "nbconvert_exporter": "python",
   "pygments_lexer": "ipython2",
   "version": "2.7.6"
  }
 },
 "nbformat": 4,
 "nbformat_minor": 0
}
